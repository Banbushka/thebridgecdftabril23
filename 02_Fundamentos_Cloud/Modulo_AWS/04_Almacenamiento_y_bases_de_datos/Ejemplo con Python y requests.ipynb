{
 "cells": [
  {
   "cell_type": "code",
   "execution_count": 1,
   "metadata": {},
   "outputs": [],
   "source": [
    "import requests\n",
    "import json"
   ]
  },
  {
   "cell_type": "code",
   "execution_count": 2,
   "metadata": {},
   "outputs": [
    {
     "name": "stdout",
     "output_type": "stream",
     "text": [
      "[\n",
      "  {\n",
      "    \"id\": 1,\n",
      "    \"type\": \"dog\",\n",
      "    \"price\": 249.99\n",
      "  },\n",
      "  {\n",
      "    \"id\": 2,\n",
      "    \"type\": \"cat\",\n",
      "    \"price\": 124.99\n",
      "  },\n",
      "  {\n",
      "    \"id\": 3,\n",
      "    \"type\": \"fish\",\n",
      "    \"price\": 0.99\n",
      "  }\n",
      "]\n"
     ]
    }
   ],
   "source": [
    "# Modificamos la url y colocamos unos argumentos\n",
    "url='https://8auev17is5.execute-api.eu-west-3.amazonaws.com/Pruebas2/pets'\n",
    "# añadiendo params\n",
    "#parametros={'par1':'Madrid','par2': 'Capital'}\n",
    "respuesta = requests.get(url) #,params=parametros)\n",
    "if respuesta.status_code == 200:\n",
    "    # como el contenido que nos devuelve esta página está en formato json, lo vamos a\n",
    "    diccionario = json.loads(respuesta.content)\n",
    "    cadena_indent= json.dumps(diccionario,indent=2)\n",
    "    print(cadena_indent)"
   ]
  },
  {
   "cell_type": "code",
   "execution_count": 4,
   "metadata": {},
   "outputs": [
    {
     "name": "stdout",
     "output_type": "stream",
     "text": [
      "b'{\\n  \"pet\": {\\n    \"id\": 4,\\n    \"type\": \"huron\",\\n    \"price\": 100.01\\n  },\\n  \"message\": \"success\"\\n}'\n",
      "{'Date': 'Mon, 03 Oct 2022 15:14:18 GMT', 'Content-Type': 'application/json', 'Content-Length': '96', 'Connection': 'keep-alive', 'x-amzn-RequestId': '0e726289-da65-40eb-acb0-c68100cb010c', 'Access-Control-Allow-Origin': '*', 'x-amz-apigw-id': 'ZbxbuHhsiGYFikQ=', 'X-Amzn-Trace-Id': 'Root=1-633afc4a-0eb8816c7eea08fc34a84232'}\n"
     ]
    }
   ],
   "source": [
    "url='https://8auev17is5.execute-api.eu-west-3.amazonaws.com/Pruebas2/pets'\n",
    "header = {'Content-type':'application/json'}\n",
    "\n",
    "datos={'id':4,'type':'huron','price': 100.01}\n",
    "respuesta = requests.post(url,data=json.dumps(datos), headers=header)\n",
    "if respuesta.status_code == 200:\n",
    "    print(respuesta.content)\n",
    "    print(respuesta.headers)\n",
    "else:\n",
    "    print(respuesta.status_code)"
   ]
  },
  {
   "cell_type": "code",
   "execution_count": null,
   "metadata": {},
   "outputs": [],
   "source": []
  }
 ],
 "metadata": {
  "kernelspec": {
   "display_name": "Python 3 (ipykernel)",
   "language": "python",
   "name": "python3"
  },
  "language_info": {
   "codemirror_mode": {
    "name": "ipython",
    "version": 3
   },
   "file_extension": ".py",
   "mimetype": "text/x-python",
   "name": "python",
   "nbconvert_exporter": "python",
   "pygments_lexer": "ipython3",
   "version": "3.7.9"
  }
 },
 "nbformat": 4,
 "nbformat_minor": 2
}
